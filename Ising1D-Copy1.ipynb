{
 "cells": [
  {
   "cell_type": "markdown",
   "id": "8771ac12-2a28-42dd-a247-7cdf1ee1b963",
   "metadata": {},
   "source": [
    "# Modelo de Ising 1 Dimensão"
   ]
  },
  {
   "cell_type": "code",
   "execution_count": 1,
   "id": "947df3a1-e22e-4aa4-adcd-d3ca7db30cea",
   "metadata": {
    "tags": []
   },
   "outputs": [],
   "source": [
    "import numpy as np\n",
    "import matplotlib.pyplot as plt #plotar figuras.\n",
    "import numba\n",
    "from numba import njit\n",
    "from scipy.ndimage import convolve, generate_binary_structure #Funções para encontrar a energia"
   ]
  },
  {
   "cell_type": "markdown",
   "id": "050a8728-f0fc-4e80-924f-a4c44d96102b",
   "metadata": {},
   "source": [
    "-Quantidades de sitios:"
   ]
  },
  {
   "cell_type": "code",
   "execution_count": 2,
   "id": "e8cc8b8c-4938-4e8b-bba7-6776cddd121c",
   "metadata": {
    "tags": []
   },
   "outputs": [],
   "source": [
    "#Numero de sitios\n",
    "N = 4"
   ]
  },
  {
   "cell_type": "code",
   "execution_count": 3,
   "id": "f853b177-6ed5-4f1b-b16b-e2a5b0d65e3c",
   "metadata": {},
   "outputs": [
    {
     "name": "stdout",
     "output_type": "stream",
     "text": [
      "[[ 1. -1.  1. -1.]]\n"
     ]
    }
   ],
   "source": [
    "init_random = np.random.random((1, N))\n",
    "rede_n = np.zeros((1, N))\n",
    "rede_n[init_random>=0.50] = 1\n",
    "rede_n[init_random<0.50] = -1\n",
    "\n",
    "print(rede_n)"
   ]
  },
  {
   "cell_type": "code",
   "execution_count": 4,
   "id": "f0e91d75-b039-418b-9a69-3b2ad89b7b04",
   "metadata": {},
   "outputs": [
    {
     "data": {
      "text/plain": [
       "<matplotlib.image.AxesImage at 0x230bb391f40>"
      ]
     },
     "execution_count": 4,
     "metadata": {},
     "output_type": "execute_result"
    },
    {
     "data": {
      "image/png": "[encoded data removed]",
      "text/plain": [
       "<Figure size 432x288 with 1 Axes>"
      ]
     },
     "metadata": {
      "needs_background": "light"
     },
     "output_type": "display_data"
    }
   ],
   "source": [
    "plt.imshow(rede_n)"
   ]
  },
  {
   "cell_type": "code",
   "execution_count": 5,
   "id": "867954c6-29d3-4a62-b8de-d88ca29d6535",
   "metadata": {},
   "outputs": [],
   "source": [
    "#Energia rede aberta, fechada:=rede_n[i+1]=rede_n[0]\n",
    "def Energia(rede):\n",
    "    # kern -> faz o somatorio dos vizinhos\n",
    "    kern = generate_binary_structure(2, 1) #pesquisar como funciona\n",
    "    kern[1][1] = False\n",
    "    arr = -rede * convolve(rede, kern, mode='constant', cval=0)\n",
    "    return arr.sum()"
   ]
  },
  {
   "cell_type": "code",
   "execution_count": 6,
   "id": "93cfecac-8891-4070-9a38-596f927a9cde",
   "metadata": {},
   "outputs": [
    {
     "data": {
      "text/plain": [
       "6.0"
      ]
     },
     "execution_count": 6,
     "metadata": {},
     "output_type": "execute_result"
    }
   ],
   "source": [
    "Energia(rede_n)"
   ]
  },
  {
   "cell_type": "code",
   "execution_count": 7,
   "id": "bb017d83-6e54-4527-b6e6-20e3119ff2ae",
   "metadata": {},
   "outputs": [],
   "source": [
    "kern = generate_binary_structure(2, 1)\n",
    "kern[1][1] = False"
   ]
  },
  {
   "cell_type": "code",
   "execution_count": 8,
   "id": "5dfc804d-28fc-4d2a-a93e-009765f84fdf",
   "metadata": {},
   "outputs": [
    {
     "data": {
      "text/plain": [
       "array([[False,  True, False],\n",
       "       [ True, False,  True],\n",
       "       [False,  True, False]])"
      ]
     },
     "execution_count": 8,
     "metadata": {},
     "output_type": "execute_result"
    }
   ],
   "source": [
    "kern\n"
   ]
  },
  {
   "cell_type": "code",
   "execution_count": null,
   "id": "01cb6e3d-cab4-4f06-bef5-01e7a424cc4d",
   "metadata": {},
   "outputs": [],
   "source": []
  },
  {
   "cell_type": "code",
   "execution_count": null,
   "id": "018b33ae",
   "metadata": {},
   "outputs": [],
   "source": []
  }
 ],
 "metadata": {
  "kernelspec": {
   "display_name": "Python 3 (ipykernel)",
   "language": "python",
   "name": "python3"
  },
  "language_info": {
   "codemirror_mode": {
    "name": "ipython",
    "version": 3
   },
   "file_extension": ".py",
   "mimetype": "text/x-python",
   "name": "python",
   "nbconvert_exporter": "python",
   "pygments_lexer": "ipython3",
   "version": "3.9.7"
  }
 },
 "nbformat": 4,
 "nbformat_minor": 5
}
