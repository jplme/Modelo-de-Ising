{
 "cells": [
  {
   "cell_type": "code",
   "execution_count": 13,
   "id": "947df3a1-e22e-4aa4-adcd-d3ca7db30cea",
   "metadata": {},
   "outputs": [],
   "source": [
    "import numpy as np\n",
    "import matplotlib.pyplot as plt\n",
    "import numba\n",
    "from numba import njit\n",
    "from scipy.ndimage import convolve, generate_binary_structure"
   ]
  },
  {
   "cell_type": "code",
   "execution_count": 14,
   "id": "e8cc8b8c-4938-4e8b-bba7-6776cddd121c",
   "metadata": {},
   "outputs": [],
   "source": [
    "#Numero de sitios\n",
    "N = 10"
   ]
  },
  {
   "cell_type": "code",
   "execution_count": 15,
   "id": "f853b177-6ed5-4f1b-b16b-e2a5b0d65e3c",
   "metadata": {},
   "outputs": [
    {
     "name": "stdout",
     "output_type": "stream",
     "text": [
      "[[-1.]\n",
      " [-1.]\n",
      " [-1.]\n",
      " [-1.]\n",
      " [-1.]\n",
      " [ 1.]\n",
      " [ 1.]\n",
      " [ 1.]\n",
      " [-1.]\n",
      " [ 1.]]\n",
      "-0.2\n"
     ]
    }
   ],
   "source": [
    "init_random = np.random.random((N,1))\n",
    "rede_n = np.zeros((N, 1))\n",
    "rede_n[init_random>=0.50] = 1\n",
    "rede_n[init_random<0.50] = -1\n",
    "\n",
    "print(rede_n)\n",
    "print(np.mean(rede_n))"
   ]
  },
  {
   "cell_type": "code",
   "execution_count": 16,
   "id": "f0e91d75-b039-418b-9a69-3b2ad89b7b04",
   "metadata": {},
   "outputs": [
    {
     "data": {
      "text/plain": [
       "<matplotlib.image.AxesImage at 0x1bb5f39dca0>"
      ]
     },
     "execution_count": 16,
     "metadata": {},
     "output_type": "execute_result"
    },
    {
     "data": {
      "image/png": "[encoded data removed]",
      "text/plain": [
       "<Figure size 432x288 with 1 Axes>"
      ]
     },
     "metadata": {
      "needs_background": "light"
     },
     "output_type": "display_data"
    }
   ],
   "source": [
    "plt.imshow(rede_n)"
   ]
  },
  {
   "cell_type": "code",
   "execution_count": 12,
   "id": "8c8515a3-b134-4b3a-8811-8e98f1ab4b11",
   "metadata": {},
   "outputs": [
    {
     "name": "stdout",
     "output_type": "stream",
     "text": [
      "[-1.]\n",
      "[1.]\n",
      "[-1.]\n",
      "[1.]\n",
      "[-1.]\n",
      "[1.]\n",
      "[1.]\n",
      "[-1.]\n",
      "[1.]\n",
      "[-1.]\n"
     ]
    }
   ],
   "source": [
    "#Atribuir cada spin em um sitio\n",
    "for i in range(0, N):\n",
    "    spin_i = rede_n[i]\n",
    "    print(spin_i)\n",
    "    #print(spin_i-rede_n[i])"
   ]
  },
  {
   "cell_type": "code",
   "execution_count": 6,
   "id": "867954c6-29d3-4a62-b8de-d88ca29d6535",
   "metadata": {},
   "outputs": [
    {
     "name": "stdout",
     "output_type": "stream",
     "text": [
      "[1.]\n",
      "[1.]\n"
     ]
    }
   ],
   "source": [
    "for i in range(0, N):\n",
    "    spin_i = rede_n[i]\n",
    "    #print(rede_n[i]*2)\n",
    "    print(spin_i)"
   ]
  },
  {
   "cell_type": "code",
   "execution_count": 7,
   "id": "93cfecac-8891-4070-9a38-596f927a9cde",
   "metadata": {},
   "outputs": [
    {
     "ename": "SyntaxError",
     "evalue": "EOL while scanning string literal (Temp/ipykernel_13372/3026843205.py, line 8)",
     "output_type": "error",
     "traceback": [
      "\u001b[1;36m  File \u001b[1;32m\"C:\\Users\\Pichau\\AppData\\Local\\Temp/ipykernel_13372/3026843205.py\"\u001b[1;36m, line \u001b[1;32m8\u001b[0m\n\u001b[1;33m    return arr.sum()''''\u001b[0m\n\u001b[1;37m                        \n^\u001b[0m\n\u001b[1;31mSyntaxError\u001b[0m\u001b[1;31m:\u001b[0m EOL while scanning string literal\n"
     ]
    }
   ],
   "source": [
    "''''#Somatorio dos sítios vizinhos\n",
    "#Energia := H(s) = -Jsum_i s_is_i+1 + hsums_i\n",
    "def Energia(rede):\n",
    "    # kern -> faz o somatorio dos vizinhos\n",
    "    kern = generate_binary_structure(1, 1) \n",
    "    kern[1][1] = False\n",
    "    arr = -rede * convolve(rede, kern, mode='constant', cval=0)\n",
    "    return arr.sum()''''"
   ]
  },
  {
   "cell_type": "code",
   "execution_count": null,
   "id": "bb017d83-6e54-4527-b6e6-20e3119ff2ae",
   "metadata": {},
   "outputs": [],
   "source": [
    "generate_binary_structure(1, 1)"
   ]
  },
  {
   "cell_type": "code",
   "execution_count": 8,
   "id": "5dfc804d-28fc-4d2a-a93e-009765f84fdf",
   "metadata": {},
   "outputs": [
    {
     "ename": "IndexError",
     "evalue": "index 3 is out of bounds for axis 0 with size 2",
     "output_type": "error",
     "traceback": [
      "\u001b[1;31m---------------------------------------------------------------------------\u001b[0m",
      "\u001b[1;31mIndexError\u001b[0m                                Traceback (most recent call last)",
      "\u001b[1;32m~\\AppData\\Local\\Temp/ipykernel_13372/2348346860.py\u001b[0m in \u001b[0;36m<module>\u001b[1;34m\u001b[0m\n\u001b[0;32m      1\u001b[0m \u001b[1;31m#Energia rede aberta, fechada:=rede_n[i+1]=rede_n[0]\u001b[0m\u001b[1;33m\u001b[0m\u001b[1;33m\u001b[0m\u001b[0m\n\u001b[1;32m----> 2\u001b[1;33m \u001b[0mrede_n\u001b[0m\u001b[1;33m[\u001b[0m\u001b[0mN\u001b[0m\u001b[1;33m+\u001b[0m\u001b[1;36m1\u001b[0m\u001b[1;33m]\u001b[0m \u001b[1;33m==\u001b[0m\u001b[1;36m0\u001b[0m\u001b[1;33m\u001b[0m\u001b[1;33m\u001b[0m\u001b[0m\n\u001b[0m\u001b[0;32m      3\u001b[0m \u001b[0mh\u001b[0m\u001b[1;33m=\u001b[0m\u001b[1;36m0.8\u001b[0m\u001b[1;33m\u001b[0m\u001b[1;33m\u001b[0m\u001b[0m\n\u001b[0;32m      4\u001b[0m \u001b[0mJ\u001b[0m\u001b[1;33m=\u001b[0m\u001b[1;36m0.5\u001b[0m\u001b[1;33m\u001b[0m\u001b[1;33m\u001b[0m\u001b[0m\n\u001b[0;32m      5\u001b[0m \u001b[0mEnergia\u001b[0m \u001b[1;33m=\u001b[0m \u001b[1;36m0.00\u001b[0m\u001b[1;33m\u001b[0m\u001b[1;33m\u001b[0m\u001b[0m\n",
      "\u001b[1;31mIndexError\u001b[0m: index 3 is out of bounds for axis 0 with size 2"
     ]
    }
   ],
   "source": [
    "#Energia rede aberta, fechada:=rede_n[i+1]=rede_n[0]\n",
    "rede_n[N+1] ==0\n",
    "h=0.8\n",
    "J=0.5\n",
    "Energia = 0.00\n",
    "for i in range(N):\n",
    "    Energia = Energia -J*(rede_n[i]*rede_n[i+1])-h*spin_i"
   ]
  },
  {
   "cell_type": "code",
   "execution_count": null,
   "id": "01cb6e3d-cab4-4f06-bef5-01e7a424cc4d",
   "metadata": {},
   "outputs": [],
   "source": [
    "Em"
   ]
  },
  {
   "cell_type": "code",
   "execution_count": null,
   "id": "86e624c4-dd28-44dc-9e61-b0142184c91e",
   "metadata": {},
   "outputs": [],
   "source": []
  }
 ],
 "metadata": {
  "kernelspec": {
   "display_name": "Python 3 (ipykernel)",
   "language": "python",
   "name": "python3"
  },
  "language_info": {
   "codemirror_mode": {
    "name": "ipython",
    "version": 3
   },
   "file_extension": ".py",
   "mimetype": "text/x-python",
   "name": "python",
   "nbconvert_exporter": "python",
   "pygments_lexer": "ipython3",
   "version": "3.9.7"
  }
 },
 "nbformat": 4,
 "nbformat_minor": 5
}
