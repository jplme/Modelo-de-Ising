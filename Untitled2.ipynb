{
 "cells": [
  {
   "cell_type": "code",
   "execution_count": 3,
   "id": "68bb8077-6587-4c20-a1e9-706aa3b9e8ed",
   "metadata": {},
   "outputs": [],
   "source": [
    "import numpy as np\n",
    "from numpy import matlib\n",
    "from numpy.random import rand\n",
    "import matplotlib\n",
    "import matplotlib.pyplot as plt\n",
    "import numba\n",
    "from numba import njit\n",
    "from scipy.ndimage import convolve, generate_binary_structure\n",
    "\n",
    "# Sorteia um Estado\n",
    "def state(N):\n",
    "    state = 2*np.random.randint(2, size=(N, N))-1 #Valores do Spin -1 e 1\n",
    "    return state\n",
    "\n",
    "# Calcula a Magnetização\n",
    "\n",
    "# Calcula a Energia de um estado\n",
    "def calcEnergy(config):\n",
    "    N = len(config)\n",
    "    energy = 0\n",
    "    for i in range(N):\n",
    "        for j in range(N):\n",
    "            S = config[i, j]\n",
    "            nb = config[(i+1) % N, j] + config[i, (j+1) % N] + config[(i-1) % N, j] + config[i, (j-1) % N]\n",
    "            energy += -nb*S\n",
    "    return energy/2.  # compensar over-counting\n",
    "\n",
    "# Coleta os coeficientes para o polonômio. Faremos #sims simulações. N deve ser par\n",
    "def collect_Coefficients(N, sims, beta):\n",
    "    Mag_list = np.arange(0,N**2+1) \n",
    "    coeff_list= np.zeros(N**2+1) \n",
    "    state0 = np.ones((N,N))\n",
    "    coeff_list[0] = np.exp(-beta*calcEnergy(state0))\n",
    "    coeff_list[N**2] = coeff_list[0]\n",
    "    for mag in Mag_list[1:int(N**2/2)+1]: #Só precisamos de metade da lista\n",
    "        boltz = 0\n",
    "        for sim in range(sims): # repetir para um numero de simulações\n",
    "            state =state0 # retornar ao estado inicial\n",
    "        # Coletar uma amostra de mag pontos\n",
    "            a = np.random.choice(np.arange(N), size=mag)\n",
    "            b = np.random.choice(np.arange(N), size=mag)\n",
    "        # Alterar o spin destes pontos\n",
    "            for i in range(mag):\n",
    "                state[a[i],b[i]] = 2-state0[a[i],b[i]]\n",
    "        # calcular a energia do novo estado\n",
    "            energy = calcEnergy(state)\n",
    "        # calcular o fator de Boltzmann\n",
    "            boltz += np.exp(-beta*energy)\n",
    "        # Novos Coeficientes\n",
    "            coeff_list[mag] = boltz/sims\n",
    "            coeff_list[N**2-mag] = coeff_list[mag]\n",
    "        \n",
    "    return coeff_list"
   ]
  },
  {
   "cell_type": "code",
   "execution_count": 8,
   "id": "191c971c-c178-4f86-be61-d13bce74c258",
   "metadata": {},
   "outputs": [
    {
     "data": {
      "text/plain": [
       "<matplotlib.collections.PathCollection at 0x1aabc9414c0>"
      ]
     },
     "execution_count": 8,
     "metadata": {},
     "output_type": "execute_result"
    },
    {
     "data": {
      "image/png": "[encoded data removed]",
      "text/plain": [
       "<Figure size 432x432 with 1 Axes>"
      ]
     },
     "metadata": {
      "needs_background": "light"
     },
     "output_type": "display_data"
    }
   ],
   "source": [
    "coeffs = collect_Coefficients(6, 100, .0001)\n",
    "roots = np.roots(coeffs)\n",
    "x = roots.real\n",
    "y = roots.imag\n",
    "theta = np.array([2*np.pi*n/100 for n in range(101)])\n",
    "xcirc = np.cos(theta)\n",
    "ycirc = np.sin(theta)\n",
    "plt.figure(figsize=(6,6))\n",
    "plt.plot(xcirc, ycirc, color='red')\n",
    "plt.scatter(x,y)"
   ]
  },
  {
   "cell_type": "code",
   "execution_count": null,
   "id": "74a2d1d1-d32d-4e29-92fa-77e346cc206f",
   "metadata": {},
   "outputs": [],
   "source": []
  },
  {
   "cell_type": "code",
   "execution_count": null,
   "id": "c6e1e1a8-4d05-49ac-b50a-0051309e5711",
   "metadata": {},
   "outputs": [],
   "source": []
  },
  {
   "cell_type": "code",
   "execution_count": null,
   "id": "bbc2e8ec-b010-47a5-9b09-5739f8c9f740",
   "metadata": {},
   "outputs": [],
   "source": []
  },
  {
   "cell_type": "code",
   "execution_count": null,
   "id": "5cde011b-c29a-4b8c-9828-f9cedcfb1551",
   "metadata": {},
   "outputs": [],
   "source": []
  }
 ],
 "metadata": {
  "kernelspec": {
   "display_name": "Python 3 (ipykernel)",
   "language": "python",
   "name": "python3"
  },
  "language_info": {
   "codemirror_mode": {
    "name": "ipython",
    "version": 3
   },
   "file_extension": ".py",
   "mimetype": "text/x-python",
   "name": "python",
   "nbconvert_exporter": "python",
   "pygments_lexer": "ipython3",
   "version": "3.9.7"
  }
 },
 "nbformat": 4,
 "nbformat_minor": 5
}
